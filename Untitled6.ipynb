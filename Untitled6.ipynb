{
  "nbformat": 4,
  "nbformat_minor": 0,
  "metadata": {
    "colab": {
      "provenance": [],
      "authorship_tag": "ABX9TyPaLEyDvMNHBZ27DzJr2+gN",
      "include_colab_link": true
    },
    "kernelspec": {
      "name": "python3",
      "display_name": "Python 3"
    },
    "language_info": {
      "name": "python"
    }
  },
  "cells": [
    {
      "cell_type": "markdown",
      "metadata": {
        "id": "view-in-github",
        "colab_type": "text"
      },
      "source": [
        "<a href=\"https://colab.research.google.com/github/Akanksha-prajapati/NLP/blob/main/Untitled6.ipynb\" target=\"_parent\"><img src=\"https://colab.research.google.com/assets/colab-badge.svg\" alt=\"Open In Colab\"/></a>"
      ]
    },
    {
      "cell_type": "code",
      "source": [
        "pip install nltk gensim scikit-learn seaborn\n"
      ],
      "metadata": {
        "colab": {
          "base_uri": "https://localhost:8080/"
        },
        "id": "iZZ_ptWfVugm",
        "outputId": "4269c9d4-de65-47f7-b601-c3f8facffbdb"
      },
      "execution_count": 5,
      "outputs": [
        {
          "output_type": "stream",
          "name": "stdout",
          "text": [
            "Requirement already satisfied: nltk in /usr/local/lib/python3.11/dist-packages (3.9.1)\n",
            "Requirement already satisfied: gensim in /usr/local/lib/python3.11/dist-packages (4.3.3)\n",
            "Requirement already satisfied: scikit-learn in /usr/local/lib/python3.11/dist-packages (1.6.1)\n",
            "Requirement already satisfied: seaborn in /usr/local/lib/python3.11/dist-packages (0.13.2)\n",
            "Requirement already satisfied: click in /usr/local/lib/python3.11/dist-packages (from nltk) (8.1.8)\n",
            "Requirement already satisfied: joblib in /usr/local/lib/python3.11/dist-packages (from nltk) (1.4.2)\n",
            "Requirement already satisfied: regex>=2021.8.3 in /usr/local/lib/python3.11/dist-packages (from nltk) (2024.11.6)\n",
            "Requirement already satisfied: tqdm in /usr/local/lib/python3.11/dist-packages (from nltk) (4.67.1)\n",
            "Requirement already satisfied: numpy<2.0,>=1.18.5 in /usr/local/lib/python3.11/dist-packages (from gensim) (1.26.4)\n",
            "Requirement already satisfied: scipy<1.14.0,>=1.7.0 in /usr/local/lib/python3.11/dist-packages (from gensim) (1.13.1)\n",
            "Requirement already satisfied: smart-open>=1.8.1 in /usr/local/lib/python3.11/dist-packages (from gensim) (7.1.0)\n",
            "Requirement already satisfied: threadpoolctl>=3.1.0 in /usr/local/lib/python3.11/dist-packages (from scikit-learn) (3.5.0)\n",
            "Requirement already satisfied: pandas>=1.2 in /usr/local/lib/python3.11/dist-packages (from seaborn) (2.2.2)\n",
            "Requirement already satisfied: matplotlib!=3.6.1,>=3.4 in /usr/local/lib/python3.11/dist-packages (from seaborn) (3.10.0)\n",
            "Requirement already satisfied: contourpy>=1.0.1 in /usr/local/lib/python3.11/dist-packages (from matplotlib!=3.6.1,>=3.4->seaborn) (1.3.1)\n",
            "Requirement already satisfied: cycler>=0.10 in /usr/local/lib/python3.11/dist-packages (from matplotlib!=3.6.1,>=3.4->seaborn) (0.12.1)\n",
            "Requirement already satisfied: fonttools>=4.22.0 in /usr/local/lib/python3.11/dist-packages (from matplotlib!=3.6.1,>=3.4->seaborn) (4.55.7)\n",
            "Requirement already satisfied: kiwisolver>=1.3.1 in /usr/local/lib/python3.11/dist-packages (from matplotlib!=3.6.1,>=3.4->seaborn) (1.4.8)\n",
            "Requirement already satisfied: packaging>=20.0 in /usr/local/lib/python3.11/dist-packages (from matplotlib!=3.6.1,>=3.4->seaborn) (24.2)\n",
            "Requirement already satisfied: pillow>=8 in /usr/local/lib/python3.11/dist-packages (from matplotlib!=3.6.1,>=3.4->seaborn) (11.1.0)\n",
            "Requirement already satisfied: pyparsing>=2.3.1 in /usr/local/lib/python3.11/dist-packages (from matplotlib!=3.6.1,>=3.4->seaborn) (3.2.1)\n",
            "Requirement already satisfied: python-dateutil>=2.7 in /usr/local/lib/python3.11/dist-packages (from matplotlib!=3.6.1,>=3.4->seaborn) (2.8.2)\n",
            "Requirement already satisfied: pytz>=2020.1 in /usr/local/lib/python3.11/dist-packages (from pandas>=1.2->seaborn) (2024.2)\n",
            "Requirement already satisfied: tzdata>=2022.7 in /usr/local/lib/python3.11/dist-packages (from pandas>=1.2->seaborn) (2025.1)\n",
            "Requirement already satisfied: wrapt in /usr/local/lib/python3.11/dist-packages (from smart-open>=1.8.1->gensim) (1.17.2)\n",
            "Requirement already satisfied: six>=1.5 in /usr/local/lib/python3.11/dist-packages (from python-dateutil>=2.7->matplotlib!=3.6.1,>=3.4->seaborn) (1.17.0)\n"
          ]
        }
      ]
    },
    {
      "cell_type": "code",
      "source": [
        "#How can you normalize text by converting it to lowercase and removing punctuation?\n",
        "\n",
        "import string\n",
        "\n",
        "text = \"Hello, World! NLP is amazing.\"\n",
        "text = text.lower()  # Convert to lowercase\n",
        "text = text.translate(str.maketrans('', '', string.punctuation))  # Remove punctuation\n",
        "print(text)  # 'hello world nlp is amazing'\n"
      ],
      "metadata": {
        "colab": {
          "base_uri": "https://localhost:8080/"
        },
        "id": "wCJp1GDtW7xa",
        "outputId": "5938e5a7-3577-4ee0-ec2e-12555166c977"
      },
      "execution_count": 9,
      "outputs": [
        {
          "output_type": "stream",
          "name": "stdout",
          "text": [
            "hello world nlp is amazing\n"
          ]
        }
      ]
    },
    {
      "cell_type": "code",
      "source": [
        "#How can you create a co-occurrence matrix for words in a corpus?\n",
        "\n",
        "import numpy as np\n",
        "from collections import Counter\n",
        "\n",
        "def co_occurrence_matrix(text):\n",
        "    words = word_tokenize(text)\n",
        "    vocab = list(set(words))\n",
        "    vocab_index = {word: i for i, word in enumerate(vocab)}\n",
        "    matrix = np.zeros((len(vocab), len(vocab)))\n",
        "\n",
        "    for i, word in enumerate(words[:-1]):\n",
        "        matrix[vocab_index[word], vocab_index[words[i+1]]] += 1\n",
        "\n",
        "    return matrix, vocab\n",
        "\n",
        "text = \"NLP is fun. NLP is useful.\"\n",
        "matrix, vocab = co_occurrence_matrix(text)\n",
        "print(matrix)\n"
      ],
      "metadata": {
        "id": "QzLMy9DCXgoD"
      },
      "execution_count": null,
      "outputs": []
    },
    {
      "cell_type": "code",
      "source": [
        "#. How can you apply a regular expression to extract all email addresses from a text?\n",
        "import re\n",
        "\n",
        "text = \"Contact us at support@example.com or sales@domain.com\"\n",
        "emails = re.findall(r'[a-zA-Z0-9+_.-]+@[a-zA-Z0-9.-]+', text)\n",
        "print(emails)  # ['support@example.com', 'sales@domain.com']\n"
      ],
      "metadata": {
        "colab": {
          "base_uri": "https://localhost:8080/"
        },
        "id": "Z05YcVEqXiEu",
        "outputId": "4e29ae7c-a2d1-4c5b-98b9-067e1c72d002"
      },
      "execution_count": 11,
      "outputs": [
        {
          "output_type": "stream",
          "name": "stdout",
          "text": [
            "['support@example.com', 'sales@domain.com']\n"
          ]
        }
      ]
    },
    {
      "cell_type": "code",
      "source": [
        "#How can you perform word embedding using Word2Vec?\n",
        "from gensim.models import Word2Vec\n",
        "\n",
        "sentences = [[\"NLP\", \"is\", \"fun\"], [\"I\", \"love\", \"machine\", \"learning\"]]\n",
        "model = Word2Vec(sentences, vector_size=100, window=5, min_count=1, workers=4)\n",
        "print(model.wv[\"NLP\"])  # Returns word vector for 'NLP'\n"
      ],
      "metadata": {
        "colab": {
          "base_uri": "https://localhost:8080/"
        },
        "id": "SSObPtV1Xtmv",
        "outputId": "82fcab18-85c2-46e6-cf71-8d01c658e438"
      },
      "execution_count": 12,
      "outputs": [
        {
          "output_type": "stream",
          "name": "stdout",
          "text": [
            "[ 8.13227147e-03 -4.45733406e-03 -1.06835726e-03  1.00636482e-03\n",
            " -1.91113955e-04  1.14817743e-03  6.11386076e-03 -2.02715401e-05\n",
            " -3.24596534e-03 -1.51072862e-03  5.89729892e-03  1.51410222e-03\n",
            " -7.24261976e-04  9.33324732e-03 -4.92128357e-03 -8.38409644e-04\n",
            "  9.17541143e-03  6.74942741e-03  1.50285603e-03 -8.88256077e-03\n",
            "  1.14874600e-03 -2.28825561e-03  9.36823711e-03  1.20992784e-03\n",
            "  1.49006362e-03  2.40640994e-03 -1.83600665e-03 -4.99963388e-03\n",
            "  2.32429506e-04 -2.01418041e-03  6.60093315e-03  8.94012302e-03\n",
            " -6.74754381e-04  2.97701475e-03 -6.10765442e-03  1.69932481e-03\n",
            " -6.92623248e-03 -8.69402662e-03 -5.90020278e-03 -8.95647518e-03\n",
            "  7.27759488e-03 -5.77203138e-03  8.27635173e-03 -7.24354526e-03\n",
            "  3.42167495e-03  9.67499893e-03 -7.78544787e-03 -9.94505733e-03\n",
            " -4.32914635e-03 -2.68313056e-03 -2.71289347e-04 -8.83155130e-03\n",
            " -8.61755759e-03  2.80021061e-03 -8.20640661e-03 -9.06933658e-03\n",
            " -2.34046578e-03 -8.63180775e-03 -7.05664977e-03 -8.40115082e-03\n",
            " -3.01328895e-04 -4.56429832e-03  6.62717456e-03  1.52716041e-03\n",
            " -3.34147573e-03  6.10897178e-03 -6.01328490e-03 -4.65616956e-03\n",
            " -7.20750913e-03 -4.33658017e-03 -1.80932996e-03  6.48964290e-03\n",
            " -2.77039292e-03  4.91896737e-03  6.90444233e-03 -7.46370573e-03\n",
            "  4.56485013e-03  6.12697843e-03 -2.95447465e-03  6.62502181e-03\n",
            "  6.12587947e-03 -6.44348515e-03 -6.76455162e-03  2.53895880e-03\n",
            " -1.62381888e-03 -6.06512791e-03  9.49920900e-03 -5.13014663e-03\n",
            " -6.55409694e-03 -1.19885204e-04 -2.70142802e-03  4.44400299e-04\n",
            " -3.53745813e-03 -4.19330609e-04 -7.08615757e-04  8.22820642e-04\n",
            "  8.19481723e-03 -5.73670724e-03 -1.65952800e-03  5.57160750e-03]\n"
          ]
        }
      ]
    },
    {
      "cell_type": "code",
      "source": [
        "#How can you use Doc2Vec to embed documents?\n",
        "\n",
        "from gensim.models.doc2vec import Doc2Vec, TaggedDocument\n",
        "\n",
        "documents = [\"This is NLP\", \"I love AI\", \"Deep learning is powerful\"]\n",
        "tagged_docs = [TaggedDocument(words=word_tokenize(doc), tags=[i]) for i, doc in enumerate(documents)]\n",
        "\n",
        "model = Doc2Vec(tagged_docs, vector_size=100, window=5, min_count=1, workers=4)\n",
        "print(model.dv[0])  # Returns document vector\n"
      ],
      "metadata": {
        "id": "emDAgmdmYIYi"
      },
      "execution_count": null,
      "outputs": []
    },
    {
      "cell_type": "code",
      "source": [
        "# How can you find similarity between two sentences using cosine similarity?\n",
        "from sklearn.feature_extraction.text import TfidfVectorizer\n",
        "from sklearn.metrics.pairwise import cosine_similarity\n",
        "\n",
        "sentences = [\"I love NLP\", \"NLP is great\"]\n",
        "vectorizer = TfidfVectorizer()\n",
        "vectors = vectorizer.fit_transform(sentences)\n",
        "\n",
        "similarity = cosine_similarity(vectors[0], vectors[1])\n",
        "print(similarity)  # Returns similarity score\n"
      ],
      "metadata": {
        "colab": {
          "base_uri": "https://localhost:8080/"
        },
        "id": "76LeqcDVYLSq",
        "outputId": "23b89888-4d22-4a11-8ca7-1d22b4b0a0e4"
      },
      "execution_count": 14,
      "outputs": [
        {
          "output_type": "stream",
          "name": "stdout",
          "text": [
            "[[0.26055567]]\n"
          ]
        }
      ]
    },
    {
      "cell_type": "code",
      "source": [
        "#How can you perform part-of-speech tagging?\n",
        "\n",
        "import nltk\n",
        "nltk.download('punkt')\n",
        "nltk.download('averaged_perceptron_tagger')\n",
        "\n",
        "def nltk_pos_tag(sentence):\n",
        "    # Tokenize and tag parts of speech\n",
        "    tokens = nltk.word_tokenize(sentence)\n",
        "    return nltk.pos_tag(tokens)\n",
        "\n",
        "# Example usage\n",
        "sentence = \"The quick brown fox jumps over the lazy dog\"\n",
        "pos_tags = nltk_pos_tag(sentence)\n",
        "print(pos_tags)\n",
        "\n"
      ],
      "metadata": {
        "id": "kH89dC8TbtII"
      },
      "execution_count": null,
      "outputs": []
    },
    {
      "cell_type": "code",
      "source": [
        "# How can you extract named entities from a sentence?\n",
        "import spacy\n",
        "\n",
        "def extract_named_entities(text):\n",
        "    # Load the English language model\n",
        "    nlp = spacy.load('en_core_web_sm')\n",
        "\n",
        "    # Process the text\n",
        "    doc = nlp(text)\n",
        "\n",
        "    # Dictionary to store entities by type\n",
        "    entities = {}\n",
        "\n",
        "    # Extract and categorize named entities\n",
        "    for ent in doc.ents:\n",
        "        # If entity type not in dictionary, create a list\n",
        "        if ent.label_ not in entities:\n",
        "            entities[ent.label_] = []\n",
        "\n",
        "        # Add entity to its corresponding type\n",
        "        entities[ent.label_].append(ent.text)\n",
        "\n",
        "    return entities\n",
        "\n",
        "# Example usage\n",
        "text = \"John works at Google in New York and earned $50,000 last year\"\n",
        "result = extract_named_entities(text)\n",
        "print(result)\n"
      ],
      "metadata": {
        "colab": {
          "base_uri": "https://localhost:8080/"
        },
        "id": "cbZKNVe0YnID",
        "outputId": "5188f5af-8adb-42f4-b9ed-fb88133a6645"
      },
      "execution_count": 23,
      "outputs": [
        {
          "output_type": "stream",
          "name": "stdout",
          "text": [
            "{'PERSON': ['John'], 'ORG': ['Google'], 'GPE': ['New York'], 'MONEY': ['50,000'], 'DATE': ['last year']}\n"
          ]
        }
      ]
    },
    {
      "cell_type": "code",
      "source": [
        "#How can you split a large document into smaller chunks of text?\n",
        "def split_file_by_lines(input_file, lines_per_chunk=300):\n",
        "    with open(input_file, 'r') as file:\n",
        "        chunk_number = 1\n",
        "        current_chunk = []\n",
        "\n",
        "        for line_number, line in enumerate(file, 1):\n",
        "            current_chunk.append(line)\n",
        "\n",
        "            if line_number % lines_per_chunk == 0:\n",
        "                with open(f'chunk_{chunk_number}.txt', 'w') as output_file:\n",
        "                    output_file.writelines(current_chunk)\n",
        "                current_chunk = []\n",
        "                chunk_number += 1\n",
        "\n",
        "        # Write remaining lines\n",
        "        if current_chunk:\n",
        "            with open(f'chunk_{chunk_number}.txt', 'w') as output_file:\n",
        "                output_file.writelines(current_chunk)\n"
      ],
      "metadata": {
        "id": "UpRuOPGoZAGu"
      },
      "execution_count": 22,
      "outputs": []
    },
    {
      "cell_type": "code",
      "source": [
        "# How can you calculate TF-IDF for a set of documents?\n",
        "vectorizer = TfidfVectorizer()\n",
        "documents = [\"I love NLP\", \"NLP is great for AI\"]\n",
        "tfidf_matrix = vectorizer.fit_transform(documents)\n",
        "print(tfidf_matrix.toarray())\n"
      ],
      "metadata": {
        "colab": {
          "base_uri": "https://localhost:8080/"
        },
        "id": "Rynn9XKJZBLf",
        "outputId": "65697a50-4984-4b1c-e1e8-e50f35ee527b"
      },
      "execution_count": 16,
      "outputs": [
        {
          "output_type": "stream",
          "name": "stdout",
          "text": [
            "[[0.         0.         0.         0.         0.81480247 0.57973867]\n",
            " [0.47107781 0.47107781 0.47107781 0.47107781 0.         0.33517574]]\n"
          ]
        }
      ]
    },
    {
      "cell_type": "code",
      "source": [
        "# How can you visualize the frequency distribution of words in a sentence?\n",
        "\n",
        "from collections import Counter\n",
        "import matplotlib.pyplot as plt\n",
        "\n",
        "# Sample text\n",
        "text = \"This is a sample text to analyze word frequency distribution\"\n",
        "\n",
        "# Preprocess and count word frequencies\n",
        "words = text.lower().split()\n",
        "word_counts = Counter(words)\n",
        "\n",
        "# Create bar chart\n",
        "plt.figure(figsize=(10, 6))\n",
        "plt.bar(word_counts.keys(), word_counts.values())\n",
        "plt.xticks(rotation=45, ha='right')\n",
        "plt.xlabel(\"Words\")\n",
        "plt.ylabel(\"Frequency\")\n",
        "plt.title(\"Word Frequency Distribution\")\n",
        "plt.show()\n"
      ],
      "metadata": {
        "colab": {
          "base_uri": "https://localhost:8080/",
          "height": 616
        },
        "id": "_fFHddhfZ-Ah",
        "outputId": "fe9f4370-3930-4080-b161-db77531db543"
      },
      "execution_count": 19,
      "outputs": [
        {
          "output_type": "display_data",
          "data": {
            "text/plain": [
              "<Figure size 1000x600 with 1 Axes>"
            ],
            "image/png": "[encoded data removed]"
          },
          "metadata": {}
        }
      ]
    },
    {
      "cell_type": "code",
      "source": [
        "#How can you apply tokenization, stopword removal, and stemming in one go?\n",
        "\n",
        "import nltk\n",
        "from nltk.corpus import stopwords\n",
        "from nltk.tokenize import word_tokenize\n",
        "from nltk.stem import PorterStemmer\n",
        "\n",
        "# Download necessary NLTK resources\n",
        "nltk.download('punkt')\n",
        "nltk.download('stopwords')\n",
        "\n",
        "def preprocess_text(text):\n",
        "    # Initialize stemmer and stopwords\n",
        "    ps = PorterStemmer()\n",
        "    stop_words = set(stopwords.words('english'))\n",
        "\n",
        "    # Tokenize the text\n",
        "    tokens = word_tokenize(text.lower())\n",
        "\n",
        "    # Remove stopwords and apply stemming\n",
        "    processed_tokens = [ps.stem(word) for word in tokens if word.isalnum() and word not in stop_words]\n",
        "\n",
        "    return processed_tokens\n",
        "\n",
        "# Example usage\n",
        "text = \"The quick brown foxes are jumping over the lazy dogs\"\n",
        "processed_text = preprocess_text(text)\n",
        "print(processed_text)\n"
      ],
      "metadata": {
        "id": "UOdRRtFpahdJ"
      },
      "execution_count": null,
      "outputs": []
    }
  ]
}